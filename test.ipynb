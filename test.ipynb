{
 "cells": [
  {
   "cell_type": "code",
   "execution_count": 1,
   "metadata": {},
   "outputs": [
    {
     "data": {
      "text/plain": [
       "2.436192147781542"
      ]
     },
     "execution_count": 1,
     "metadata": {},
     "output_type": "execute_result"
    }
   ],
   "source": [
    "import plotly.graph_objects as go\n",
    "import plotly.express as px\n",
    "from scipy.optimize import curve_fit\n",
    "import pandas as pd\n",
    "import numpy as np\n",
    "import re\n",
    "from plotly.subplots import make_subplots\n",
    "\n",
    "\n",
    "def ln_Re_rw_coeff_plot():\n",
    "    from utilities.ln_Re_rw_coeff_curves import ln_Re_rw_coeff_curves\n",
    "\n",
    "    ln_Re_rw_coeff_curves.keys()\n",
    "\n",
    "    dfs = []\n",
    "    for curve, data in ln_Re_rw_coeff_curves.items():\n",
    "        dfx = pd.DataFrame(data)\n",
    "        dfx[\"curve\"] = curve\n",
    "        dfs.append(dfx)\n",
    "\n",
    "    df = pd.concat(dfs)\n",
    "    df\n",
    "    fig = make_subplots(specs=[[{\"secondary_y\": True}]])\n",
    "\n",
    "    for c in [\"A\", \"C\"]:\n",
    "        dfx = df[df[\"curve\"] == c]\n",
    "        fig.add_trace(go.Scatter(x=dfx[\"x\"], y=dfx[\"y\"], name=c), secondary_y=False)\n",
    "\n",
    "    dfx = df[df[\"curve\"] == \"B\"]\n",
    "    fig.add_trace(go.Scatter(x=dfx[\"x\"], y=dfx[\"y\"], name=\"B\"), secondary_y=True)\n",
    "\n",
    "    fig.update_xaxes(title=r\"L_e/r_w\", type=\"log\")\n",
    "    fig.update_layout(\n",
    "        yaxis1=dict(\n",
    "            title=dict(text=\"A and C\"),\n",
    "            range=[0, 14],\n",
    "        ),\n",
    "        yaxis2=dict(\n",
    "            title=dict(text=\"B\"),\n",
    "            range=[0, 7],\n",
    "            tickmode=\"sync\",\n",
    "        ),\n",
    "        legend=dict(x=0.01, y=0.99),\n",
    "        margin=dict(t=10, b=10, l=10, r=10),\n",
    "    )\n",
    "    return fig\n",
    "\n",
    "\n",
    "ln_Re_rw_coeff_plot()\n",
    "\n",
    "\n",
    "def ln_Re_rw_coeff(kind, L_e, r_w):\n",
    "    from utilities.ln_Re_rw_coeff_curves import ln_Re_rw_coeff_curves\n",
    "\n",
    "    x = ln_Re_rw_coeff_curves[kind][\"x\"]\n",
    "    y = ln_Re_rw_coeff_curves[kind][\"y\"]\n",
    "    coeff = np.interp(L_e / r_w, x, y)\n",
    "    return coeff\n",
    "\n",
    "\n",
    "ln_Re_rw_coeff(kind=\"A\", L_e=10, r_w=4 / 12)\n"
   ]
  }
 ],
 "metadata": {
  "kernelspec": {
   "display_name": "myenv",
   "language": "python",
   "name": "python3"
  },
  "language_info": {
   "codemirror_mode": {
    "name": "ipython",
    "version": 3
   },
   "file_extension": ".py",
   "mimetype": "text/x-python",
   "name": "python",
   "nbconvert_exporter": "python",
   "pygments_lexer": "ipython3",
   "version": "3.11.3"
  }
 },
 "nbformat": 4,
 "nbformat_minor": 2
}
