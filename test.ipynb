{
 "cells": [
  {
   "cell_type": "code",
   "execution_count": 64,
   "metadata": {},
   "outputs": [],
   "source": [
    "import plotly.graph_objects as go\n",
    "import plotly.express as px\n",
    "from scipy.optimize import curve_fit\n",
    "import pandas as pd\n",
    "import numpy as np\n",
    "import re\n",
    "\n",
    "\n",
    "# kind: str, L_e, r_w\n",
    "\n",
    "\n",
    "# ln_Re_rw_coeff(kind=\"C\", L_e=10, r_w=4.75 / 12)\n",
    "df = pd.read_pickle(\"utilities\\\\ln_Re_rw_coeff_curves.pickle\").reset_index(drop=True)\n",
    "dfs = {}\n",
    "for c in df[\"curve\"].unique():\n",
    "    dfx = df[df[\"curve\"] == c].sort_values(\"x\")\n",
    "    dfs[c] = {\"x\": list(dfx[\"x\"]), \"y\": list(dfx[\"y\"])}\n",
    "\n",
    "with open(\"ln_Re_rw_coeff_curves.py\", \"w\") as file:\n",
    "    file.write(f\"ln_Re_rw_coeff_curves = {dfs}\\n\")"
   ]
  }
 ],
 "metadata": {
  "kernelspec": {
   "display_name": "myenv",
   "language": "python",
   "name": "python3"
  },
  "language_info": {
   "codemirror_mode": {
    "name": "ipython",
    "version": 3
   },
   "file_extension": ".py",
   "mimetype": "text/x-python",
   "name": "python",
   "nbconvert_exporter": "python",
   "pygments_lexer": "ipython3",
   "version": "3.11.3"
  }
 },
 "nbformat": 4,
 "nbformat_minor": 2
}
